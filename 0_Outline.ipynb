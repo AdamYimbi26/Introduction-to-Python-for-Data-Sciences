{
 "cells": [
  {
   "cell_type": "markdown",
   "metadata": {},
   "source": [
    "\n",
    "<table>\n",
    "<tr>\n",
    "<td width=15%><img src=\"./img/UGA.png\"></img></td>\n",
    "<td><center><h1>Introduction to Python for Data Sciences</h1></center></td>\n",
    "<td width=15%><a href=\"http://www.iutzeler.org\" style=\"font-size: 16px; font-weight: bold\">Franck Iutzeler</a><br/> 2017/2018 </td>\n",
    "</tr>\n",
    "</table>\n"
   ]
  },
  {
   "cell_type": "markdown",
   "metadata": {},
   "source": [
    "<br/><br/>\n",
    "\t<center><h1> Course Presentation </h1></center>"
   ]
  },
  {
   "cell_type": "markdown",
   "metadata": {},
   "source": [
    "\n",
    "### Chap. 1 - Introduction to Python \n",
    "\n",
    "#### 1. [Basics](1-1_Basics.ipynb)\n",
    "\n",
    "### Chap. 2 - Python for Scientific Computing \n",
    "\n",
    "#### 1. [NumPy](2-1_NumPy.ipynb)\n",
    "#### 2. [Signal Processing and Optimization](2-2_Signal_Processing_and_Optimization.ipynb)\n",
    "\n",
    "### Chap. 3 - Data Visualtization with Pandas \n",
    "\n",
    "#### 1. [Pandas](3-1_Pandas.ipynb)\n",
    "#### 2. [Dataframes](3-2_Dataframes.ipynb)\n",
    "#### 3. [Fancy Visualization with Seaborn](3-3_Fancy_Visualization_with_Seaborn.ipynb)\n",
    "\n",
    "### Chap. 4 - Machine Learning with ScikitLearn \n",
    "\n",
    "#### 1. [Scikit Learn](4-1_Scikit_Learn.ipynb)\n",
    "#### 2. [Supervised Learning](4-2_Supervised_Learning.ipynb)\n",
    "#### 3. [Unsupervised Learning](4-3_Unsupervised_Learning.ipynb)\n",
    "#### 4. [Going Further](4-4_Going_Further.ipynb)\n",
    "\n",
    "### Chap. 5 - Neural Networks with TensorFlow \n",
    "\n"
   ]
  },
  {
   "cell_type": "markdown",
   "metadata": {
    "collapsed": true
   },
   "source": [
    "</br></br></br></br>\n",
    "# 1. Time Table\n",
    "\n",
    "---\n",
    "\n",
    " <table style=\"tr:nth-child(even) { background-color: #ccc; }; font-size: 16px \">\n",
    "  <tr>\n",
    "    <th> </th>\n",
    "    <th colspan=\"2\" style=\"text-align:center\"> Date </th>\n",
    "    <th style=\"text-align:center\"> Content </th>\n",
    "  </tr>\n",
    "  <tr>\n",
    "    <td>1.</td>\n",
    "    <td>Sep. 14 </td> <td> 9h45-13h</td>\n",
    "    <td style=\"text-align:left\">Course 1 </td>\n",
    "  </tr>\n",
    "  <tr>\n",
    "    <td>2.</td>\n",
    "    <td>Sep. 21  </td> <td> 9h45-13h</td>\n",
    "    <td style=\"text-align:left\">Course 2 </td>\n",
    "  </tr>\n",
    "    <tr>\n",
    "    <td>3.</td>\n",
    "    <td>Sep. 28  </td> <td> 9h45-13h</td>\n",
    "    <td style=\"text-align:left\">Course 3   </td>\n",
    "  </tr>\n",
    "    <tr>\n",
    "    <td>4.</td>\n",
    "    <td>Oct. 5 </td> <td> 9h45-13h</td>\n",
    "    <td style=\"text-align:left\">Course 4</td>\n",
    "  </tr>\n",
    "    <tr>\n",
    "    <td>5.</td>\n",
    "    <td>Oct. 12  </td> <td> 9h45-13h</td>\n",
    "    <td style=\"text-align:left\">Course 5 </td>\n",
    "  </tr>\n",
    "    <tr>\n",
    "    <td>6.</td>\n",
    "    <td>Oct. 12  </td> <td> 13h30-17h</td>\n",
    "    <td style=\"text-align:left\">Course 6 Open Topic + Project 1: choosing a project and preparing the data </td>\n",
    "  </tr>\n",
    "    <tr>\n",
    "    <td>7.</td>\n",
    "    <td>Oct. 19  </td> <td> 9h45-13h</td>\n",
    "    <td style=\"text-align:left\">Project 2: hands on! </td>\n",
    "  </tr>\n",
    "    <tr>\n",
    "    <td>8.</td>\n",
    "    <td>Nov. 9  </td> <td> 9h45-13h</td>\n",
    "    <td style=\"text-align:left\"> Project 3: Presentation and Preparation of the post  </td>\n",
    "  </tr>\n",
    "</table> \n"
   ]
  },
  {
   "cell_type": "markdown",
   "metadata": {},
   "source": [
    "# 2. Credits\n",
    "\n",
    "\n",
    "I am greatly indebted to many people and resources for this course\n",
    "* Alexandre Gramfort for his kind permission tu use some material from his course <a href=\"\">at Telecom ParisTech</a> and its <a href=\"\">scikit-learn tutorial at SciPy 2016</a>.\n",
    "* Adeline Leclerc Samson for giving me the opportunity of teaching this course.\n",
    "* Anatoli Juditski for his advice and the conception of the Operation research course.\n",
    "* the [Python Data Science Handbook](http://shop.oreilly.com/product/0636920034919.do) by Jake VanderPlas; content is available [on GitHub](https://github.com/jakevdp/PythonDataScienceHandbook).\n",
    "* the various docs and examples on the websites of Numpy, Scipy, CvxOpt, Pandas, Scikit Learn, TensorFlow\n",
    " * \n",
    "    * [Numpy's quickstart tutorial](https://docs.scipy.org/doc/numpy-dev/user/quickstart.html)\n",
    "    * [Numpy for Matlab users](https://docs.scipy.org/doc/numpy-dev/user/numpy-for-matlab-users.html)\n",
    " \n",
    "<p style=\"text-align: right\">F.I.</p>\n",
    "\n"
   ]
  },
  {
   "cell_type": "markdown",
   "metadata": {},
   "source": [
    "---\n",
    "<div id=\"style\"></div>\n",
    "### Package Check and Styling\n",
    "\n",
    "\n",
    "<p style=\"text-align: right; font-size: 10px;\"><a href=\"#top\">Go to top</a></p>\n"
   ]
  },
  {
   "cell_type": "code",
   "execution_count": null,
   "metadata": {},
   "outputs": [],
   "source": [
    "import lib.notebook_setting as nbs\n",
    "\n",
    "packageList = ['IPython', 'numpy', 'scipy', 'matplotlib', 'cvxopt', 'pandas', 'seaborn', 'sklearn', 'tensorflow']\n",
    "nbs.packageCheck(packageList)\n",
    "\n",
    "nbs.cssStyling()"
   ]
  }
 ],
 "metadata": {
  "kernelspec": {
   "display_name": "Python 2",
   "language": "python",
   "name": "python2"
  },
  "language_info": {
   "codemirror_mode": {
    "name": "ipython",
    "version": 2
   },
   "file_extension": ".py",
   "mimetype": "text/x-python",
   "name": "python",
   "nbconvert_exporter": "python",
   "pygments_lexer": "ipython2",
   "version": "2.7.12+"
  },
  "varInspector": {
   "cols": {
    "lenName": 16,
    "lenType": 16,
    "lenVar": 40
   },
   "kernels_config": {
    "python": {
     "delete_cmd_postfix": "",
     "delete_cmd_prefix": "del ",
     "library": "var_list.py",
     "varRefreshCmd": "print(var_dic_list())"
    },
    "r": {
     "delete_cmd_postfix": ") ",
     "delete_cmd_prefix": "rm(",
     "library": "var_list.r",
     "varRefreshCmd": "cat(var_dic_list()) "
    }
   },
   "types_to_exclude": [
    "module",
    "function",
    "builtin_function_or_method",
    "instance",
    "_Feature"
   ],
   "window_display": false
  }
 },
 "nbformat": 4,
 "nbformat_minor": 1
}
